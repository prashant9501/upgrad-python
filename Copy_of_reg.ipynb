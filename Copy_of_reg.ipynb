{
  "nbformat": 4,
  "nbformat_minor": 0,
  "metadata": {
    "colab": {
      "provenance": []
    },
    "kernelspec": {
      "name": "python3",
      "display_name": "Python 3"
    },
    "language_info": {
      "name": "python"
    }
  },
  "cells": [
    {
      "cell_type": "code",
      "execution_count": 1,
      "metadata": {
        "id": "9MeQO3ydkO4F"
      },
      "outputs": [],
      "source": [
        "import pandas as pd"
      ]
    },
    {
      "cell_type": "code",
      "source": [
        "df = pd.read_excel('/content/GoudUnclev2.xlsx')"
      ],
      "metadata": {
        "id": "1pjYprotkysn"
      },
      "execution_count": 2,
      "outputs": []
    },
    {
      "cell_type": "code",
      "source": [
        "df.head()"
      ],
      "metadata": {
        "colab": {
          "base_uri": "https://localhost:8080/",
          "height": 250
        },
        "id": "kBxdkxqBlBia",
        "outputId": "fd7f9774-9ef3-441c-fb4a-5b01f83b5e81"
      },
      "execution_count": 3,
      "outputs": [
        {
          "output_type": "execute_result",
          "data": {
            "text/plain": [
              "  Hydraulic dia inches Regressed corrected solids % Regressed density water %  \\\n",
              "0                   x1                           x2                x3      x4   \n",
              "1                 0.96                         9.09             70.73      38   \n",
              "2                  1.2                         11.4             70.49      36   \n",
              "3                 1.44                         13.6             70.26      34   \n",
              "4                 1.68                         15.9             70.02      32   \n",
              "\n",
              "  Regressed OWR A V m/m Regressed BHCT Regressed oil % Shear Rate Shear Stress  \n",
              "0            x5      x6             x7              x8         x9          x10  \n",
              "1         0.946    36.6           64.5           59.05        600          100  \n",
              "2          0.92   39.24      79.430556           60.95        600          110  \n",
              "3         0.961   41.89      94.361111           62.86        600          110  \n",
              "4         1.005   44.53      109.29167           64.76        600          109  "
            ],
            "text/html": [
              "\n",
              "  <div id=\"df-3d420de0-58d9-4c24-bcea-05599cacd7a3\">\n",
              "    <div class=\"colab-df-container\">\n",
              "      <div>\n",
              "<style scoped>\n",
              "    .dataframe tbody tr th:only-of-type {\n",
              "        vertical-align: middle;\n",
              "    }\n",
              "\n",
              "    .dataframe tbody tr th {\n",
              "        vertical-align: top;\n",
              "    }\n",
              "\n",
              "    .dataframe thead th {\n",
              "        text-align: right;\n",
              "    }\n",
              "</style>\n",
              "<table border=\"1\" class=\"dataframe\">\n",
              "  <thead>\n",
              "    <tr style=\"text-align: right;\">\n",
              "      <th></th>\n",
              "      <th>Hydraulic dia inches</th>\n",
              "      <th>Regressed corrected solids %</th>\n",
              "      <th>Regressed density</th>\n",
              "      <th>water %</th>\n",
              "      <th>Regressed OWR</th>\n",
              "      <th>A V m/m</th>\n",
              "      <th>Regressed BHCT</th>\n",
              "      <th>Regressed oil %</th>\n",
              "      <th>Shear Rate</th>\n",
              "      <th>Shear Stress</th>\n",
              "    </tr>\n",
              "  </thead>\n",
              "  <tbody>\n",
              "    <tr>\n",
              "      <th>0</th>\n",
              "      <td>x1</td>\n",
              "      <td>x2</td>\n",
              "      <td>x3</td>\n",
              "      <td>x4</td>\n",
              "      <td>x5</td>\n",
              "      <td>x6</td>\n",
              "      <td>x7</td>\n",
              "      <td>x8</td>\n",
              "      <td>x9</td>\n",
              "      <td>x10</td>\n",
              "    </tr>\n",
              "    <tr>\n",
              "      <th>1</th>\n",
              "      <td>0.96</td>\n",
              "      <td>9.09</td>\n",
              "      <td>70.73</td>\n",
              "      <td>38</td>\n",
              "      <td>0.946</td>\n",
              "      <td>36.6</td>\n",
              "      <td>64.5</td>\n",
              "      <td>59.05</td>\n",
              "      <td>600</td>\n",
              "      <td>100</td>\n",
              "    </tr>\n",
              "    <tr>\n",
              "      <th>2</th>\n",
              "      <td>1.2</td>\n",
              "      <td>11.4</td>\n",
              "      <td>70.49</td>\n",
              "      <td>36</td>\n",
              "      <td>0.92</td>\n",
              "      <td>39.24</td>\n",
              "      <td>79.430556</td>\n",
              "      <td>60.95</td>\n",
              "      <td>600</td>\n",
              "      <td>110</td>\n",
              "    </tr>\n",
              "    <tr>\n",
              "      <th>3</th>\n",
              "      <td>1.44</td>\n",
              "      <td>13.6</td>\n",
              "      <td>70.26</td>\n",
              "      <td>34</td>\n",
              "      <td>0.961</td>\n",
              "      <td>41.89</td>\n",
              "      <td>94.361111</td>\n",
              "      <td>62.86</td>\n",
              "      <td>600</td>\n",
              "      <td>110</td>\n",
              "    </tr>\n",
              "    <tr>\n",
              "      <th>4</th>\n",
              "      <td>1.68</td>\n",
              "      <td>15.9</td>\n",
              "      <td>70.02</td>\n",
              "      <td>32</td>\n",
              "      <td>1.005</td>\n",
              "      <td>44.53</td>\n",
              "      <td>109.29167</td>\n",
              "      <td>64.76</td>\n",
              "      <td>600</td>\n",
              "      <td>109</td>\n",
              "    </tr>\n",
              "  </tbody>\n",
              "</table>\n",
              "</div>\n",
              "      <button class=\"colab-df-convert\" onclick=\"convertToInteractive('df-3d420de0-58d9-4c24-bcea-05599cacd7a3')\"\n",
              "              title=\"Convert this dataframe to an interactive table.\"\n",
              "              style=\"display:none;\">\n",
              "        \n",
              "  <svg xmlns=\"http://www.w3.org/2000/svg\" height=\"24px\"viewBox=\"0 0 24 24\"\n",
              "       width=\"24px\">\n",
              "    <path d=\"M0 0h24v24H0V0z\" fill=\"none\"/>\n",
              "    <path d=\"M18.56 5.44l.94 2.06.94-2.06 2.06-.94-2.06-.94-.94-2.06-.94 2.06-2.06.94zm-11 1L8.5 8.5l.94-2.06 2.06-.94-2.06-.94L8.5 2.5l-.94 2.06-2.06.94zm10 10l.94 2.06.94-2.06 2.06-.94-2.06-.94-.94-2.06-.94 2.06-2.06.94z\"/><path d=\"M17.41 7.96l-1.37-1.37c-.4-.4-.92-.59-1.43-.59-.52 0-1.04.2-1.43.59L10.3 9.45l-7.72 7.72c-.78.78-.78 2.05 0 2.83L4 21.41c.39.39.9.59 1.41.59.51 0 1.02-.2 1.41-.59l7.78-7.78 2.81-2.81c.8-.78.8-2.07 0-2.86zM5.41 20L4 18.59l7.72-7.72 1.47 1.35L5.41 20z\"/>\n",
              "  </svg>\n",
              "      </button>\n",
              "      \n",
              "  <style>\n",
              "    .colab-df-container {\n",
              "      display:flex;\n",
              "      flex-wrap:wrap;\n",
              "      gap: 12px;\n",
              "    }\n",
              "\n",
              "    .colab-df-convert {\n",
              "      background-color: #E8F0FE;\n",
              "      border: none;\n",
              "      border-radius: 50%;\n",
              "      cursor: pointer;\n",
              "      display: none;\n",
              "      fill: #1967D2;\n",
              "      height: 32px;\n",
              "      padding: 0 0 0 0;\n",
              "      width: 32px;\n",
              "    }\n",
              "\n",
              "    .colab-df-convert:hover {\n",
              "      background-color: #E2EBFA;\n",
              "      box-shadow: 0px 1px 2px rgba(60, 64, 67, 0.3), 0px 1px 3px 1px rgba(60, 64, 67, 0.15);\n",
              "      fill: #174EA6;\n",
              "    }\n",
              "\n",
              "    [theme=dark] .colab-df-convert {\n",
              "      background-color: #3B4455;\n",
              "      fill: #D2E3FC;\n",
              "    }\n",
              "\n",
              "    [theme=dark] .colab-df-convert:hover {\n",
              "      background-color: #434B5C;\n",
              "      box-shadow: 0px 1px 3px 1px rgba(0, 0, 0, 0.15);\n",
              "      filter: drop-shadow(0px 1px 2px rgba(0, 0, 0, 0.3));\n",
              "      fill: #FFFFFF;\n",
              "    }\n",
              "  </style>\n",
              "\n",
              "      <script>\n",
              "        const buttonEl =\n",
              "          document.querySelector('#df-3d420de0-58d9-4c24-bcea-05599cacd7a3 button.colab-df-convert');\n",
              "        buttonEl.style.display =\n",
              "          google.colab.kernel.accessAllowed ? 'block' : 'none';\n",
              "\n",
              "        async function convertToInteractive(key) {\n",
              "          const element = document.querySelector('#df-3d420de0-58d9-4c24-bcea-05599cacd7a3');\n",
              "          const dataTable =\n",
              "            await google.colab.kernel.invokeFunction('convertToInteractive',\n",
              "                                                     [key], {});\n",
              "          if (!dataTable) return;\n",
              "\n",
              "          const docLinkHtml = 'Like what you see? Visit the ' +\n",
              "            '<a target=\"_blank\" href=https://colab.research.google.com/notebooks/data_table.ipynb>data table notebook</a>'\n",
              "            + ' to learn more about interactive tables.';\n",
              "          element.innerHTML = '';\n",
              "          dataTable['output_type'] = 'display_data';\n",
              "          await google.colab.output.renderOutput(dataTable, element);\n",
              "          const docLink = document.createElement('div');\n",
              "          docLink.innerHTML = docLinkHtml;\n",
              "          element.appendChild(docLink);\n",
              "        }\n",
              "      </script>\n",
              "    </div>\n",
              "  </div>\n",
              "  "
            ]
          },
          "metadata": {},
          "execution_count": 3
        }
      ]
    },
    {
      "cell_type": "code",
      "source": [
        "df.drop(0, inplace=True)\n",
        "df.head()"
      ],
      "metadata": {
        "colab": {
          "base_uri": "https://localhost:8080/",
          "height": 250
        },
        "id": "DRcKpluL-GvB",
        "outputId": "6184de67-6480-4f33-b361-04cdfa768973"
      },
      "execution_count": 4,
      "outputs": [
        {
          "output_type": "execute_result",
          "data": {
            "text/plain": [
              "  Hydraulic dia inches Regressed corrected solids % Regressed density water %  \\\n",
              "1                 0.96                         9.09             70.73      38   \n",
              "2                  1.2                         11.4             70.49      36   \n",
              "3                 1.44                         13.6             70.26      34   \n",
              "4                 1.68                         15.9             70.02      32   \n",
              "5                 1.92                         18.2             69.79      30   \n",
              "\n",
              "  Regressed OWR A V m/m Regressed BHCT Regressed oil % Shear Rate Shear Stress  \n",
              "1         0.946    36.6           64.5           59.05        600          100  \n",
              "2          0.92   39.24      79.430556           60.95        600          110  \n",
              "3         0.961   41.89      94.361111           62.86        600          110  \n",
              "4         1.005   44.53      109.29167           64.76        600          109  \n",
              "5         1.053   47.17      124.22222           66.67        600           97  "
            ],
            "text/html": [
              "\n",
              "  <div id=\"df-b8fa71e5-f4fc-4d3c-b74c-b30f35826570\">\n",
              "    <div class=\"colab-df-container\">\n",
              "      <div>\n",
              "<style scoped>\n",
              "    .dataframe tbody tr th:only-of-type {\n",
              "        vertical-align: middle;\n",
              "    }\n",
              "\n",
              "    .dataframe tbody tr th {\n",
              "        vertical-align: top;\n",
              "    }\n",
              "\n",
              "    .dataframe thead th {\n",
              "        text-align: right;\n",
              "    }\n",
              "</style>\n",
              "<table border=\"1\" class=\"dataframe\">\n",
              "  <thead>\n",
              "    <tr style=\"text-align: right;\">\n",
              "      <th></th>\n",
              "      <th>Hydraulic dia inches</th>\n",
              "      <th>Regressed corrected solids %</th>\n",
              "      <th>Regressed density</th>\n",
              "      <th>water %</th>\n",
              "      <th>Regressed OWR</th>\n",
              "      <th>A V m/m</th>\n",
              "      <th>Regressed BHCT</th>\n",
              "      <th>Regressed oil %</th>\n",
              "      <th>Shear Rate</th>\n",
              "      <th>Shear Stress</th>\n",
              "    </tr>\n",
              "  </thead>\n",
              "  <tbody>\n",
              "    <tr>\n",
              "      <th>1</th>\n",
              "      <td>0.96</td>\n",
              "      <td>9.09</td>\n",
              "      <td>70.73</td>\n",
              "      <td>38</td>\n",
              "      <td>0.946</td>\n",
              "      <td>36.6</td>\n",
              "      <td>64.5</td>\n",
              "      <td>59.05</td>\n",
              "      <td>600</td>\n",
              "      <td>100</td>\n",
              "    </tr>\n",
              "    <tr>\n",
              "      <th>2</th>\n",
              "      <td>1.2</td>\n",
              "      <td>11.4</td>\n",
              "      <td>70.49</td>\n",
              "      <td>36</td>\n",
              "      <td>0.92</td>\n",
              "      <td>39.24</td>\n",
              "      <td>79.430556</td>\n",
              "      <td>60.95</td>\n",
              "      <td>600</td>\n",
              "      <td>110</td>\n",
              "    </tr>\n",
              "    <tr>\n",
              "      <th>3</th>\n",
              "      <td>1.44</td>\n",
              "      <td>13.6</td>\n",
              "      <td>70.26</td>\n",
              "      <td>34</td>\n",
              "      <td>0.961</td>\n",
              "      <td>41.89</td>\n",
              "      <td>94.361111</td>\n",
              "      <td>62.86</td>\n",
              "      <td>600</td>\n",
              "      <td>110</td>\n",
              "    </tr>\n",
              "    <tr>\n",
              "      <th>4</th>\n",
              "      <td>1.68</td>\n",
              "      <td>15.9</td>\n",
              "      <td>70.02</td>\n",
              "      <td>32</td>\n",
              "      <td>1.005</td>\n",
              "      <td>44.53</td>\n",
              "      <td>109.29167</td>\n",
              "      <td>64.76</td>\n",
              "      <td>600</td>\n",
              "      <td>109</td>\n",
              "    </tr>\n",
              "    <tr>\n",
              "      <th>5</th>\n",
              "      <td>1.92</td>\n",
              "      <td>18.2</td>\n",
              "      <td>69.79</td>\n",
              "      <td>30</td>\n",
              "      <td>1.053</td>\n",
              "      <td>47.17</td>\n",
              "      <td>124.22222</td>\n",
              "      <td>66.67</td>\n",
              "      <td>600</td>\n",
              "      <td>97</td>\n",
              "    </tr>\n",
              "  </tbody>\n",
              "</table>\n",
              "</div>\n",
              "      <button class=\"colab-df-convert\" onclick=\"convertToInteractive('df-b8fa71e5-f4fc-4d3c-b74c-b30f35826570')\"\n",
              "              title=\"Convert this dataframe to an interactive table.\"\n",
              "              style=\"display:none;\">\n",
              "        \n",
              "  <svg xmlns=\"http://www.w3.org/2000/svg\" height=\"24px\"viewBox=\"0 0 24 24\"\n",
              "       width=\"24px\">\n",
              "    <path d=\"M0 0h24v24H0V0z\" fill=\"none\"/>\n",
              "    <path d=\"M18.56 5.44l.94 2.06.94-2.06 2.06-.94-2.06-.94-.94-2.06-.94 2.06-2.06.94zm-11 1L8.5 8.5l.94-2.06 2.06-.94-2.06-.94L8.5 2.5l-.94 2.06-2.06.94zm10 10l.94 2.06.94-2.06 2.06-.94-2.06-.94-.94-2.06-.94 2.06-2.06.94z\"/><path d=\"M17.41 7.96l-1.37-1.37c-.4-.4-.92-.59-1.43-.59-.52 0-1.04.2-1.43.59L10.3 9.45l-7.72 7.72c-.78.78-.78 2.05 0 2.83L4 21.41c.39.39.9.59 1.41.59.51 0 1.02-.2 1.41-.59l7.78-7.78 2.81-2.81c.8-.78.8-2.07 0-2.86zM5.41 20L4 18.59l7.72-7.72 1.47 1.35L5.41 20z\"/>\n",
              "  </svg>\n",
              "      </button>\n",
              "      \n",
              "  <style>\n",
              "    .colab-df-container {\n",
              "      display:flex;\n",
              "      flex-wrap:wrap;\n",
              "      gap: 12px;\n",
              "    }\n",
              "\n",
              "    .colab-df-convert {\n",
              "      background-color: #E8F0FE;\n",
              "      border: none;\n",
              "      border-radius: 50%;\n",
              "      cursor: pointer;\n",
              "      display: none;\n",
              "      fill: #1967D2;\n",
              "      height: 32px;\n",
              "      padding: 0 0 0 0;\n",
              "      width: 32px;\n",
              "    }\n",
              "\n",
              "    .colab-df-convert:hover {\n",
              "      background-color: #E2EBFA;\n",
              "      box-shadow: 0px 1px 2px rgba(60, 64, 67, 0.3), 0px 1px 3px 1px rgba(60, 64, 67, 0.15);\n",
              "      fill: #174EA6;\n",
              "    }\n",
              "\n",
              "    [theme=dark] .colab-df-convert {\n",
              "      background-color: #3B4455;\n",
              "      fill: #D2E3FC;\n",
              "    }\n",
              "\n",
              "    [theme=dark] .colab-df-convert:hover {\n",
              "      background-color: #434B5C;\n",
              "      box-shadow: 0px 1px 3px 1px rgba(0, 0, 0, 0.15);\n",
              "      filter: drop-shadow(0px 1px 2px rgba(0, 0, 0, 0.3));\n",
              "      fill: #FFFFFF;\n",
              "    }\n",
              "  </style>\n",
              "\n",
              "      <script>\n",
              "        const buttonEl =\n",
              "          document.querySelector('#df-b8fa71e5-f4fc-4d3c-b74c-b30f35826570 button.colab-df-convert');\n",
              "        buttonEl.style.display =\n",
              "          google.colab.kernel.accessAllowed ? 'block' : 'none';\n",
              "\n",
              "        async function convertToInteractive(key) {\n",
              "          const element = document.querySelector('#df-b8fa71e5-f4fc-4d3c-b74c-b30f35826570');\n",
              "          const dataTable =\n",
              "            await google.colab.kernel.invokeFunction('convertToInteractive',\n",
              "                                                     [key], {});\n",
              "          if (!dataTable) return;\n",
              "\n",
              "          const docLinkHtml = 'Like what you see? Visit the ' +\n",
              "            '<a target=\"_blank\" href=https://colab.research.google.com/notebooks/data_table.ipynb>data table notebook</a>'\n",
              "            + ' to learn more about interactive tables.';\n",
              "          element.innerHTML = '';\n",
              "          dataTable['output_type'] = 'display_data';\n",
              "          await google.colab.output.renderOutput(dataTable, element);\n",
              "          const docLink = document.createElement('div');\n",
              "          docLink.innerHTML = docLinkHtml;\n",
              "          element.appendChild(docLink);\n",
              "        }\n",
              "      </script>\n",
              "    </div>\n",
              "  </div>\n",
              "  "
            ]
          },
          "metadata": {},
          "execution_count": 4
        }
      ]
    },
    {
      "cell_type": "markdown",
      "source": [
        "## Save the file"
      ],
      "metadata": {
        "id": "ONGU69oo2Ifj"
      }
    },
    {
      "cell_type": "code",
      "source": [
        "# import pickle\n",
        "\n",
        "# # Save the coefficients and intercept\n",
        "# model_params = {'coefficients': coefficients, 'intercept': intercept}\n",
        "\n",
        "# with open('model_params.pkl', 'wb') as f:\n",
        "#     pickle.dump(model_params, f)\n"
      ],
      "metadata": {
        "id": "bQ5QlBEXyIb2"
      },
      "execution_count": 124,
      "outputs": []
    },
    {
      "cell_type": "code",
      "source": [
        "# # Load the coefficients and intercept\n",
        "# with open('model_params.pkl', 'rb') as f:\n",
        "#     loaded_model_params = pickle.load(f)\n",
        "\n",
        "# coefficients_loaded = loaded_model_params['coefficients']\n",
        "# intercept_loaded = loaded_model_params['intercept']"
      ],
      "metadata": {
        "id": "0a8R_eCB2RSi"
      },
      "execution_count": 125,
      "outputs": []
    },
    {
      "cell_type": "code",
      "source": [],
      "metadata": {
        "id": "hCnCkO8ZdvIN"
      },
      "execution_count": null,
      "outputs": []
    },
    {
      "cell_type": "code",
      "source": [],
      "metadata": {
        "id": "EWLErR9vdvEw"
      },
      "execution_count": null,
      "outputs": []
    },
    {
      "cell_type": "code",
      "source": [
        "from sklearn.linear_model import LinearRegression\n",
        "from sklearn.preprocessing import PolynomialFeatures\n",
        "from sklearn.model_selection import train_test_split\n",
        "from sklearn.preprocessing import StandardScaler, MinMaxScaler\n",
        "from sklearn.metrics import mean_squared_error\n",
        "\n",
        "from sklearn.utils import shuffle\n",
        "import pandas as pd\n",
        "from sklearn.model_selection import cross_val_score\n",
        "from sklearn.linear_model import LinearRegression\n",
        "from sklearn.preprocessing import PolynomialFeatures\n",
        "from sklearn.metrics import r2_score\n",
        "from sklearn.model_selection import KFold"
      ],
      "metadata": {
        "id": "76K8z2wZmAyy"
      },
      "execution_count": 126,
      "outputs": []
    },
    {
      "cell_type": "code",
      "source": [
        "X = df.drop(['Shear Stress'],axis=1)\n",
        "y = df['Shear Stress']"
      ],
      "metadata": {
        "id": "a4vWy5GanUth"
      },
      "execution_count": 6,
      "outputs": []
    },
    {
      "cell_type": "code",
      "source": [],
      "metadata": {
        "id": "YVx2AqVD-RG9"
      },
      "execution_count": 7,
      "outputs": []
    },
    {
      "cell_type": "markdown",
      "source": [
        "## Degree = 3"
      ],
      "metadata": {
        "id": "Vx9KLqSn4KBG"
      }
    },
    {
      "cell_type": "code",
      "source": [
        "poly_transformer = PolynomialFeatures(degree=3)\n",
        "X_poly = poly_transformer.fit_transform(X)\n",
        "\n",
        "poly_regression = LinearRegression()\n",
        "\n",
        "kfold = KFold(5, shuffle=True, random_state = 101)\n",
        "scores = cross_val_score(poly_regression, X_poly, y, cv=kfold, scoring='r2')\n",
        "\n",
        "print(\"R^2 scores for each fold:\", scores)\n",
        "\n",
        "mean_r2 = scores.mean()\n",
        "std_r2 = scores.std()\n",
        "print(\"Mean R^2:\", mean_r2)\n",
        "print(\"Standard Deviation of R^2:\", std_r2)\n"
      ],
      "metadata": {
        "colab": {
          "base_uri": "https://localhost:8080/"
        },
        "id": "vFd0XdmjxEl6",
        "outputId": "a864a540-3e07-4ded-99fc-fdb36fa84a7f"
      },
      "execution_count": 8,
      "outputs": [
        {
          "output_type": "stream",
          "name": "stdout",
          "text": [
            "R^2 scores for each fold: [0.97235587 0.97760425 0.98163655 0.9871187  0.99099643]\n",
            "Mean R^2: 0.9819423591362391\n",
            "Standard Deviation of R^2: 0.006626977188231231\n"
          ]
        }
      ]
    },
    {
      "cell_type": "code",
      "source": [
        "X_poly.shape"
      ],
      "metadata": {
        "colab": {
          "base_uri": "https://localhost:8080/"
        },
        "id": "gLnyD8iJ6ZMI",
        "outputId": "0b3f0318-7bec-4cfc-e106-dde54aed6419"
      },
      "execution_count": 9,
      "outputs": [
        {
          "output_type": "execute_result",
          "data": {
            "text/plain": [
              "(1520, 220)"
            ]
          },
          "metadata": {},
          "execution_count": 9
        }
      ]
    },
    {
      "cell_type": "code",
      "source": [
        "import itertools\n",
        "from sklearn.preprocessing import PolynomialFeatures\n",
        "variable_names = ['x1', 'x2', 'x3', 'x4', 'x5', 'x6', 'x7', 'x8', 'x9']\n",
        "\n",
        "poly_transformer = PolynomialFeatures(degree=3, include_bias=False)\n",
        "\n",
        "X_poly = poly_transformer.fit_transform(X)\n",
        "\n",
        "combinations = poly_transformer.powers_\n",
        "feature_names = []\n",
        "for combination in combinations:\n",
        "    names = [f'{variable_names[i]}^{power}' if power > 1 else variable_names[i] for i, power in enumerate(combination) if power > 0]\n",
        "    feature_names.append('*'.join(names))\n",
        "\n",
        "\n",
        "print('Feature 0: 1')\n",
        "for i, feature_name in enumerate(feature_names):\n",
        "    print(f\"Feature {i+1}: {feature_name}\")"
      ],
      "metadata": {
        "colab": {
          "base_uri": "https://localhost:8080/"
        },
        "id": "MiCPFpC_2qZx",
        "outputId": "689e82bc-3fca-430c-c0a9-598403d88aec"
      },
      "execution_count": 11,
      "outputs": [
        {
          "output_type": "stream",
          "name": "stdout",
          "text": [
            "Feature 0: 1\n",
            "Feature 1: x1\n",
            "Feature 2: x2\n",
            "Feature 3: x3\n",
            "Feature 4: x4\n",
            "Feature 5: x5\n",
            "Feature 6: x6\n",
            "Feature 7: x7\n",
            "Feature 8: x8\n",
            "Feature 9: x9\n",
            "Feature 10: x1^2\n",
            "Feature 11: x1*x2\n",
            "Feature 12: x1*x3\n",
            "Feature 13: x1*x4\n",
            "Feature 14: x1*x5\n",
            "Feature 15: x1*x6\n",
            "Feature 16: x1*x7\n",
            "Feature 17: x1*x8\n",
            "Feature 18: x1*x9\n",
            "Feature 19: x2^2\n",
            "Feature 20: x2*x3\n",
            "Feature 21: x2*x4\n",
            "Feature 22: x2*x5\n",
            "Feature 23: x2*x6\n",
            "Feature 24: x2*x7\n",
            "Feature 25: x2*x8\n",
            "Feature 26: x2*x9\n",
            "Feature 27: x3^2\n",
            "Feature 28: x3*x4\n",
            "Feature 29: x3*x5\n",
            "Feature 30: x3*x6\n",
            "Feature 31: x3*x7\n",
            "Feature 32: x3*x8\n",
            "Feature 33: x3*x9\n",
            "Feature 34: x4^2\n",
            "Feature 35: x4*x5\n",
            "Feature 36: x4*x6\n",
            "Feature 37: x4*x7\n",
            "Feature 38: x4*x8\n",
            "Feature 39: x4*x9\n",
            "Feature 40: x5^2\n",
            "Feature 41: x5*x6\n",
            "Feature 42: x5*x7\n",
            "Feature 43: x5*x8\n",
            "Feature 44: x5*x9\n",
            "Feature 45: x6^2\n",
            "Feature 46: x6*x7\n",
            "Feature 47: x6*x8\n",
            "Feature 48: x6*x9\n",
            "Feature 49: x7^2\n",
            "Feature 50: x7*x8\n",
            "Feature 51: x7*x9\n",
            "Feature 52: x8^2\n",
            "Feature 53: x8*x9\n",
            "Feature 54: x9^2\n",
            "Feature 55: x1^3\n",
            "Feature 56: x1^2*x2\n",
            "Feature 57: x1^2*x3\n",
            "Feature 58: x1^2*x4\n",
            "Feature 59: x1^2*x5\n",
            "Feature 60: x1^2*x6\n",
            "Feature 61: x1^2*x7\n",
            "Feature 62: x1^2*x8\n",
            "Feature 63: x1^2*x9\n",
            "Feature 64: x1*x2^2\n",
            "Feature 65: x1*x2*x3\n",
            "Feature 66: x1*x2*x4\n",
            "Feature 67: x1*x2*x5\n",
            "Feature 68: x1*x2*x6\n",
            "Feature 69: x1*x2*x7\n",
            "Feature 70: x1*x2*x8\n",
            "Feature 71: x1*x2*x9\n",
            "Feature 72: x1*x3^2\n",
            "Feature 73: x1*x3*x4\n",
            "Feature 74: x1*x3*x5\n",
            "Feature 75: x1*x3*x6\n",
            "Feature 76: x1*x3*x7\n",
            "Feature 77: x1*x3*x8\n",
            "Feature 78: x1*x3*x9\n",
            "Feature 79: x1*x4^2\n",
            "Feature 80: x1*x4*x5\n",
            "Feature 81: x1*x4*x6\n",
            "Feature 82: x1*x4*x7\n",
            "Feature 83: x1*x4*x8\n",
            "Feature 84: x1*x4*x9\n",
            "Feature 85: x1*x5^2\n",
            "Feature 86: x1*x5*x6\n",
            "Feature 87: x1*x5*x7\n",
            "Feature 88: x1*x5*x8\n",
            "Feature 89: x1*x5*x9\n",
            "Feature 90: x1*x6^2\n",
            "Feature 91: x1*x6*x7\n",
            "Feature 92: x1*x6*x8\n",
            "Feature 93: x1*x6*x9\n",
            "Feature 94: x1*x7^2\n",
            "Feature 95: x1*x7*x8\n",
            "Feature 96: x1*x7*x9\n",
            "Feature 97: x1*x8^2\n",
            "Feature 98: x1*x8*x9\n",
            "Feature 99: x1*x9^2\n",
            "Feature 100: x2^3\n",
            "Feature 101: x2^2*x3\n",
            "Feature 102: x2^2*x4\n",
            "Feature 103: x2^2*x5\n",
            "Feature 104: x2^2*x6\n",
            "Feature 105: x2^2*x7\n",
            "Feature 106: x2^2*x8\n",
            "Feature 107: x2^2*x9\n",
            "Feature 108: x2*x3^2\n",
            "Feature 109: x2*x3*x4\n",
            "Feature 110: x2*x3*x5\n",
            "Feature 111: x2*x3*x6\n",
            "Feature 112: x2*x3*x7\n",
            "Feature 113: x2*x3*x8\n",
            "Feature 114: x2*x3*x9\n",
            "Feature 115: x2*x4^2\n",
            "Feature 116: x2*x4*x5\n",
            "Feature 117: x2*x4*x6\n",
            "Feature 118: x2*x4*x7\n",
            "Feature 119: x2*x4*x8\n",
            "Feature 120: x2*x4*x9\n",
            "Feature 121: x2*x5^2\n",
            "Feature 122: x2*x5*x6\n",
            "Feature 123: x2*x5*x7\n",
            "Feature 124: x2*x5*x8\n",
            "Feature 125: x2*x5*x9\n",
            "Feature 126: x2*x6^2\n",
            "Feature 127: x2*x6*x7\n",
            "Feature 128: x2*x6*x8\n",
            "Feature 129: x2*x6*x9\n",
            "Feature 130: x2*x7^2\n",
            "Feature 131: x2*x7*x8\n",
            "Feature 132: x2*x7*x9\n",
            "Feature 133: x2*x8^2\n",
            "Feature 134: x2*x8*x9\n",
            "Feature 135: x2*x9^2\n",
            "Feature 136: x3^3\n",
            "Feature 137: x3^2*x4\n",
            "Feature 138: x3^2*x5\n",
            "Feature 139: x3^2*x6\n",
            "Feature 140: x3^2*x7\n",
            "Feature 141: x3^2*x8\n",
            "Feature 142: x3^2*x9\n",
            "Feature 143: x3*x4^2\n",
            "Feature 144: x3*x4*x5\n",
            "Feature 145: x3*x4*x6\n",
            "Feature 146: x3*x4*x7\n",
            "Feature 147: x3*x4*x8\n",
            "Feature 148: x3*x4*x9\n",
            "Feature 149: x3*x5^2\n",
            "Feature 150: x3*x5*x6\n",
            "Feature 151: x3*x5*x7\n",
            "Feature 152: x3*x5*x8\n",
            "Feature 153: x3*x5*x9\n",
            "Feature 154: x3*x6^2\n",
            "Feature 155: x3*x6*x7\n",
            "Feature 156: x3*x6*x8\n",
            "Feature 157: x3*x6*x9\n",
            "Feature 158: x3*x7^2\n",
            "Feature 159: x3*x7*x8\n",
            "Feature 160: x3*x7*x9\n",
            "Feature 161: x3*x8^2\n",
            "Feature 162: x3*x8*x9\n",
            "Feature 163: x3*x9^2\n",
            "Feature 164: x4^3\n",
            "Feature 165: x4^2*x5\n",
            "Feature 166: x4^2*x6\n",
            "Feature 167: x4^2*x7\n",
            "Feature 168: x4^2*x8\n",
            "Feature 169: x4^2*x9\n",
            "Feature 170: x4*x5^2\n",
            "Feature 171: x4*x5*x6\n",
            "Feature 172: x4*x5*x7\n",
            "Feature 173: x4*x5*x8\n",
            "Feature 174: x4*x5*x9\n",
            "Feature 175: x4*x6^2\n",
            "Feature 176: x4*x6*x7\n",
            "Feature 177: x4*x6*x8\n",
            "Feature 178: x4*x6*x9\n",
            "Feature 179: x4*x7^2\n",
            "Feature 180: x4*x7*x8\n",
            "Feature 181: x4*x7*x9\n",
            "Feature 182: x4*x8^2\n",
            "Feature 183: x4*x8*x9\n",
            "Feature 184: x4*x9^2\n",
            "Feature 185: x5^3\n",
            "Feature 186: x5^2*x6\n",
            "Feature 187: x5^2*x7\n",
            "Feature 188: x5^2*x8\n",
            "Feature 189: x5^2*x9\n",
            "Feature 190: x5*x6^2\n",
            "Feature 191: x5*x6*x7\n",
            "Feature 192: x5*x6*x8\n",
            "Feature 193: x5*x6*x9\n",
            "Feature 194: x5*x7^2\n",
            "Feature 195: x5*x7*x8\n",
            "Feature 196: x5*x7*x9\n",
            "Feature 197: x5*x8^2\n",
            "Feature 198: x5*x8*x9\n",
            "Feature 199: x5*x9^2\n",
            "Feature 200: x6^3\n",
            "Feature 201: x6^2*x7\n",
            "Feature 202: x6^2*x8\n",
            "Feature 203: x6^2*x9\n",
            "Feature 204: x6*x7^2\n",
            "Feature 205: x6*x7*x8\n",
            "Feature 206: x6*x7*x9\n",
            "Feature 207: x6*x8^2\n",
            "Feature 208: x6*x8*x9\n",
            "Feature 209: x6*x9^2\n",
            "Feature 210: x7^3\n",
            "Feature 211: x7^2*x8\n",
            "Feature 212: x7^2*x9\n",
            "Feature 213: x7*x8^2\n",
            "Feature 214: x7*x8*x9\n",
            "Feature 215: x7*x9^2\n",
            "Feature 216: x8^3\n",
            "Feature 217: x8^2*x9\n",
            "Feature 218: x8*x9^2\n",
            "Feature 219: x9^3\n"
          ]
        }
      ]
    },
    {
      "cell_type": "code",
      "source": [
        "poly_transformer = PolynomialFeatures(degree=3, include_bias=False)\n",
        "\n",
        "lasso = Lasso(alpha=5000, max_iter=4000)\n",
        "kfold = KFold(n_splits=5, shuffle=True, random_state=101)\n",
        "\n",
        "pipeline = Pipeline([(\"poly_transformer\", poly_transformer), (\"lasso\", lasso)] )\n",
        "cv_scores = cross_validate(pipeline, X, y, scoring='r2', cv=kfold, return_train_score=True, return_estimator=True)\n",
        "\n",
        "print(sum(np.abs(cv_scores['estimator'][-1]['lasso'].coef_) > 1e-14))\n",
        "print(cv_scores['test_score'].mean(), cv_scores['test_score'].std())\n",
        "print(cv_scores['train_score'].mean(), cv_scores['train_score'].std())\n"
      ],
      "metadata": {
        "colab": {
          "base_uri": "https://localhost:8080/"
        },
        "id": "WBNx1sWYxGbk",
        "outputId": "5828aa8e-c831-4b67-8f38-efd47bd12945"
      },
      "execution_count": 13,
      "outputs": [
        {
          "output_type": "stream",
          "name": "stderr",
          "text": [
            "/usr/local/lib/python3.10/dist-packages/sklearn/linear_model/_coordinate_descent.py:631: ConvergenceWarning: Objective did not converge. You might want to increase the number of iterations, check the scale of the features or consider increasing regularisation. Duality gap: 2.601e+04, tolerance: 3.007e+02\n",
            "  model = cd_fast.enet_coordinate_descent(\n",
            "/usr/local/lib/python3.10/dist-packages/sklearn/linear_model/_coordinate_descent.py:631: ConvergenceWarning: Objective did not converge. You might want to increase the number of iterations, check the scale of the features or consider increasing regularisation. Duality gap: 1.656e+04, tolerance: 3.078e+02\n",
            "  model = cd_fast.enet_coordinate_descent(\n",
            "/usr/local/lib/python3.10/dist-packages/sklearn/linear_model/_coordinate_descent.py:631: ConvergenceWarning: Objective did not converge. You might want to increase the number of iterations, check the scale of the features or consider increasing regularisation. Duality gap: 2.557e+04, tolerance: 3.175e+02\n",
            "  model = cd_fast.enet_coordinate_descent(\n",
            "/usr/local/lib/python3.10/dist-packages/sklearn/linear_model/_coordinate_descent.py:631: ConvergenceWarning: Objective did not converge. You might want to increase the number of iterations, check the scale of the features or consider increasing regularisation. Duality gap: 2.569e+04, tolerance: 3.437e+02\n",
            "  model = cd_fast.enet_coordinate_descent(\n"
          ]
        },
        {
          "output_type": "stream",
          "name": "stdout",
          "text": [
            "33\n",
            "0.9843443903495604 0.005783940209605397\n",
            "0.9891895071582516 0.0009595965205750156\n"
          ]
        },
        {
          "output_type": "stream",
          "name": "stderr",
          "text": [
            "/usr/local/lib/python3.10/dist-packages/sklearn/linear_model/_coordinate_descent.py:631: ConvergenceWarning: Objective did not converge. You might want to increase the number of iterations, check the scale of the features or consider increasing regularisation. Duality gap: 2.709e+04, tolerance: 3.229e+02\n",
            "  model = cd_fast.enet_coordinate_descent(\n"
          ]
        }
      ]
    },
    {
      "cell_type": "code",
      "source": [
        "import numpy as np"
      ],
      "metadata": {
        "id": "dkB8Wc-X9gyK"
      },
      "execution_count": 29,
      "outputs": []
    },
    {
      "cell_type": "code",
      "source": [
        "np.arange(0.001, 0.1, 0.005)"
      ],
      "metadata": {
        "colab": {
          "base_uri": "https://localhost:8080/"
        },
        "id": "e9yXZQHNBFBp",
        "outputId": "9aaf6a20-3acf-4897-c9b8-5ade50c9b8d6"
      },
      "execution_count": 42,
      "outputs": [
        {
          "output_type": "execute_result",
          "data": {
            "text/plain": [
              "array([0.001, 0.006, 0.011, 0.016, 0.021, 0.026, 0.031, 0.036, 0.041,\n",
              "       0.046, 0.051, 0.056, 0.061, 0.066, 0.071, 0.076, 0.081, 0.086,\n",
              "       0.091, 0.096])"
            ]
          },
          "metadata": {},
          "execution_count": 42
        }
      ]
    },
    {
      "cell_type": "code",
      "source": [
        "poly_transformer = PolynomialFeatures(degree=3, include_bias=False)\n",
        "train_scores = []\n",
        "test_scores = []\n",
        "alpha_values = []\n",
        "non_zero_coeff = []\n",
        "\n",
        "for alpha in np.arange(0.01, 0.03, 0.002):\n",
        "# for alpha in np.arange(0.001, 0.1, 0.005):\n",
        "  lasso = Lasso(alpha=alpha, max_iter=10000) # lpha = 5000\n",
        "  kfold = KFold(n_splits=5, shuffle=True, random_state=101)\n",
        "\n",
        "  pipeline = Pipeline([ (\"poly_transformer\", poly_transformer), (\"scaler\", scaler), (\"lasso\", lasso)] )\n",
        "  cv_scores = cross_validate(pipeline, X, y, scoring='r2', cv=kfold, return_train_score=True, return_estimator=True)\n",
        "\n",
        "  alpha_values.append(alpha.round(3))\n",
        "  print(\"***********\", )\n",
        "  nnz = sum(np.abs(cv_scores['estimator'][-1]['lasso'].coef_) > 1e-5)\n",
        "  non_zero_coeff.append(nnz)\n",
        "  print(alpha.round(3), nnz)\n",
        "\n",
        "  test_score = cv_scores['test_score'].mean().round(4)\n",
        "  test_scores.append(test_score)\n",
        "  print(test_score, cv_scores['test_score'].std().round(4))\n",
        "\n",
        "  train_score = cv_scores['train_score'].mean().round(4)\n",
        "  train_scores.append(train_score)\n",
        "  print(train_score, cv_scores['train_score'].std().round(4))\n",
        "\n"
      ],
      "metadata": {
        "colab": {
          "base_uri": "https://localhost:8080/"
        },
        "id": "YiQ_rD625fPW",
        "outputId": "c8492023-d42d-4754-9d03-07292af87951"
      },
      "execution_count": 43,
      "outputs": [
        {
          "output_type": "stream",
          "name": "stderr",
          "text": [
            "/usr/local/lib/python3.10/dist-packages/sklearn/linear_model/_coordinate_descent.py:631: ConvergenceWarning: Objective did not converge. You might want to increase the number of iterations, check the scale of the features or consider increasing regularisation. Duality gap: 9.426e+03, tolerance: 3.007e+02\n",
            "  model = cd_fast.enet_coordinate_descent(\n",
            "/usr/local/lib/python3.10/dist-packages/sklearn/linear_model/_coordinate_descent.py:631: ConvergenceWarning: Objective did not converge. You might want to increase the number of iterations, check the scale of the features or consider increasing regularisation. Duality gap: 8.222e+03, tolerance: 3.078e+02\n",
            "  model = cd_fast.enet_coordinate_descent(\n",
            "/usr/local/lib/python3.10/dist-packages/sklearn/linear_model/_coordinate_descent.py:631: ConvergenceWarning: Objective did not converge. You might want to increase the number of iterations, check the scale of the features or consider increasing regularisation. Duality gap: 9.256e+03, tolerance: 3.175e+02\n",
            "  model = cd_fast.enet_coordinate_descent(\n",
            "/usr/local/lib/python3.10/dist-packages/sklearn/linear_model/_coordinate_descent.py:631: ConvergenceWarning: Objective did not converge. You might want to increase the number of iterations, check the scale of the features or consider increasing regularisation. Duality gap: 9.453e+03, tolerance: 3.437e+02\n",
            "  model = cd_fast.enet_coordinate_descent(\n",
            "/usr/local/lib/python3.10/dist-packages/sklearn/linear_model/_coordinate_descent.py:631: ConvergenceWarning: Objective did not converge. You might want to increase the number of iterations, check the scale of the features or consider increasing regularisation. Duality gap: 1.129e+04, tolerance: 3.229e+02\n",
            "  model = cd_fast.enet_coordinate_descent(\n"
          ]
        },
        {
          "output_type": "stream",
          "name": "stdout",
          "text": [
            "***********\n",
            "0.001 84\n",
            "0.987 0.0053\n",
            "0.9921 0.0007\n"
          ]
        },
        {
          "output_type": "stream",
          "name": "stderr",
          "text": [
            "/usr/local/lib/python3.10/dist-packages/sklearn/linear_model/_coordinate_descent.py:631: ConvergenceWarning: Objective did not converge. You might want to increase the number of iterations, check the scale of the features or consider increasing regularisation. Duality gap: 6.038e+02, tolerance: 3.007e+02\n",
            "  model = cd_fast.enet_coordinate_descent(\n",
            "/usr/local/lib/python3.10/dist-packages/sklearn/linear_model/_coordinate_descent.py:631: ConvergenceWarning: Objective did not converge. You might want to increase the number of iterations, check the scale of the features or consider increasing regularisation. Duality gap: 8.420e+02, tolerance: 3.078e+02\n",
            "  model = cd_fast.enet_coordinate_descent(\n",
            "/usr/local/lib/python3.10/dist-packages/sklearn/linear_model/_coordinate_descent.py:631: ConvergenceWarning: Objective did not converge. You might want to increase the number of iterations, check the scale of the features or consider increasing regularisation. Duality gap: 4.583e+02, tolerance: 3.175e+02\n",
            "  model = cd_fast.enet_coordinate_descent(\n",
            "/usr/local/lib/python3.10/dist-packages/sklearn/linear_model/_coordinate_descent.py:631: ConvergenceWarning: Objective did not converge. You might want to increase the number of iterations, check the scale of the features or consider increasing regularisation. Duality gap: 1.019e+03, tolerance: 3.437e+02\n",
            "  model = cd_fast.enet_coordinate_descent(\n",
            "/usr/local/lib/python3.10/dist-packages/sklearn/linear_model/_coordinate_descent.py:631: ConvergenceWarning: Objective did not converge. You might want to increase the number of iterations, check the scale of the features or consider increasing regularisation. Duality gap: 1.435e+03, tolerance: 3.229e+02\n",
            "  model = cd_fast.enet_coordinate_descent(\n"
          ]
        },
        {
          "output_type": "stream",
          "name": "stdout",
          "text": [
            "***********\n",
            "0.006 29\n",
            "0.9829 0.0088\n",
            "0.9875 0.001\n",
            "***********\n",
            "0.011 25\n",
            "0.9758 0.0107\n",
            "0.9808 0.0017\n",
            "***********\n",
            "0.016 21\n",
            "0.9726 0.0118\n",
            "0.9771 0.0014\n",
            "***********\n",
            "0.021 16\n",
            "0.9711 0.0116\n",
            "0.9751 0.002\n",
            "***********\n",
            "0.026 15\n",
            "0.9702 0.0122\n",
            "0.9741 0.002\n",
            "***********\n",
            "0.031 17\n",
            "0.9693 0.0126\n",
            "0.973 0.0019\n",
            "***********\n",
            "0.036 16\n",
            "0.9684 0.0127\n",
            "0.9719 0.0021\n",
            "***********\n",
            "0.041 15\n",
            "0.9673 0.0127\n",
            "0.9706 0.0023\n",
            "***********\n",
            "0.046 15\n",
            "0.9665 0.0128\n",
            "0.9695 0.0023\n",
            "***********\n",
            "0.051 15\n",
            "0.9656 0.0131\n",
            "0.9685 0.0022\n",
            "***********\n",
            "0.056 14\n",
            "0.9647 0.0133\n",
            "0.9675 0.0022\n",
            "***********\n",
            "0.061 13\n",
            "0.9637 0.0136\n",
            "0.9665 0.0022\n",
            "***********\n",
            "0.066 14\n",
            "0.9626 0.0139\n",
            "0.9654 0.0022\n",
            "***********\n",
            "0.071 13\n",
            "0.9614 0.0141\n",
            "0.9643 0.0023\n",
            "***********\n",
            "0.076 13\n",
            "0.9605 0.0142\n",
            "0.9633 0.0025\n",
            "***********\n",
            "0.081 12\n",
            "0.9597 0.0144\n",
            "0.9625 0.0025\n",
            "***********\n",
            "0.086 13\n",
            "0.9589 0.0146\n",
            "0.9617 0.0025\n",
            "***********\n",
            "0.091 12\n",
            "0.9579 0.0148\n",
            "0.9608 0.0026\n",
            "***********\n",
            "0.096 12\n",
            "0.9569 0.015\n",
            "0.9599 0.0026\n"
          ]
        }
      ]
    },
    {
      "cell_type": "code",
      "source": [
        "np.diff(np.array(test_scores))"
      ],
      "metadata": {
        "colab": {
          "base_uri": "https://localhost:8080/"
        },
        "id": "2xLk0EqqBeR0",
        "outputId": "9cdd3b81-3e8b-49c5-bafd-0f29eb5f652e"
      },
      "execution_count": 44,
      "outputs": [
        {
          "output_type": "execute_result",
          "data": {
            "text/plain": [
              "array([-0.0041, -0.0071, -0.0032, -0.0015, -0.0009, -0.0009, -0.0009,\n",
              "       -0.0011, -0.0008, -0.0009, -0.0009, -0.001 , -0.0011, -0.0012,\n",
              "       -0.0009, -0.0008, -0.0008, -0.001 , -0.001 ])"
            ]
          },
          "metadata": {},
          "execution_count": 44
        }
      ]
    },
    {
      "cell_type": "code",
      "source": [
        "np.array(train_scores) - np.array(test_scores)"
      ],
      "metadata": {
        "colab": {
          "base_uri": "https://localhost:8080/"
        },
        "id": "jeezI5b1BeAJ",
        "outputId": "907d13f3-677b-47de-cb71-df984ebd28ad"
      },
      "execution_count": 45,
      "outputs": [
        {
          "output_type": "execute_result",
          "data": {
            "text/plain": [
              "array([0.0051, 0.0046, 0.005 , 0.0045, 0.004 , 0.0039, 0.0037, 0.0035,\n",
              "       0.0033, 0.003 , 0.0029, 0.0028, 0.0028, 0.0028, 0.0029, 0.0028,\n",
              "       0.0028, 0.0028, 0.0029, 0.003 ])"
            ]
          },
          "metadata": {},
          "execution_count": 45
        }
      ]
    },
    {
      "cell_type": "code",
      "source": [
        "import matplotlib.pyplot as plt\n",
        "plt.plot(alpha_values, train_scores, '-o')\n",
        "plt.plot(alpha_values, test_scores, '-o')"
      ],
      "metadata": {
        "colab": {
          "base_uri": "https://localhost:8080/",
          "height": 448
        },
        "id": "mhu_lvydBSJf",
        "outputId": "8a4a79dc-0025-439b-d264-144354017987"
      },
      "execution_count": 46,
      "outputs": [
        {
          "output_type": "execute_result",
          "data": {
            "text/plain": [
              "[<matplotlib.lines.Line2D at 0x7f18b0255690>]"
            ]
          },
          "metadata": {},
          "execution_count": 46
        },
        {
          "output_type": "display_data",
          "data": {
            "text/plain": [
              "<Figure size 640x480 with 1 Axes>"
            ],
            "image/png": "[encoded data removed]"
          },
          "metadata": {}
        }
      ]
    },
    {
      "cell_type": "code",
      "source": [
        "coeff = cv_scores['estimator'][-1]['lasso'].coef_\n",
        "intercept = cv_scores['estimator'][-1]['lasso'].intercept_\n",
        "non_zero_indices = np.nonzero(coeff)\n",
        "coeff[non_zero_indices[0]], intercept"
      ],
      "metadata": {
        "colab": {
          "base_uri": "https://localhost:8080/"
        },
        "id": "y5hQ4stJ51s2",
        "outputId": "618bf3f0-09ee-4654-beb0-1360433c6b83"
      },
      "execution_count": 47,
      "outputs": [
        {
          "output_type": "execute_result",
          "data": {
            "text/plain": [
              "(array([ 35.26018982,  15.23762122,   5.70488454,  20.99850574,\n",
              "         12.22448344, 259.01860196, 102.25087335,  -8.1024492 ,\n",
              "         -1.89984415, -11.52601342, -72.42885522, -43.11222966]),\n",
              " 4.796742834683116)"
            ]
          },
          "metadata": {},
          "execution_count": 47
        }
      ]
    },
    {
      "cell_type": "markdown",
      "source": [
        "## Final Model"
      ],
      "metadata": {
        "id": "qcB4OTdJEkvT"
      }
    },
    {
      "cell_type": "code",
      "source": [
        "##### random_state=42 gis 15 top features\n",
        "poly_transformer = PolynomialFeatures(degree=3, include_bias=False)\n",
        "\n",
        "lasso = Lasso(alpha=0.02, max_iter=10000) # lpha = 5000\n",
        "kfold = KFold(n_splits=5, shuffle=True, random_state=42)\n",
        "\n",
        "pipeline = Pipeline([ (\"poly_transformer\", poly_transformer), (\"scaler\", scaler), (\"lasso\", lasso)] )\n",
        "cv_scores = cross_validate(pipeline, X, y, scoring='r2', cv=kfold, return_train_score=True, return_estimator=True)\n",
        "\n",
        "nnz = sum(np.abs(cv_scores['estimator'][-1]['lasso'].coef_) > 1e-5)\n",
        "print(nnz)\n",
        "\n",
        "test_score = cv_scores['test_score'].mean().round(4)\n",
        "print(test_score, cv_scores['test_score'].std().round(4))\n",
        "\n",
        "train_score = cv_scores['train_score'].mean().round(4)\n",
        "print(train_score, cv_scores['train_score'].std().round(4))"
      ],
      "metadata": {
        "colab": {
          "base_uri": "https://localhost:8080/"
        },
        "id": "Hk4oGKFDEjpk",
        "outputId": "1fb73110-78be-4e2c-df50-441915847122"
      },
      "execution_count": 105,
      "outputs": [
        {
          "output_type": "stream",
          "name": "stdout",
          "text": [
            "15\n",
            "0.9714 0.0101\n",
            "0.9752 0.002\n"
          ]
        }
      ]
    },
    {
      "cell_type": "code",
      "source": [
        "coeff = cv_scores['estimator'][-1]['lasso'].coef_\n",
        "intercept = cv_scores['estimator'][-1]['lasso'].intercept_\n",
        "non_zero_indices = np.nonzero(coeff)\n",
        "non_zero_indices"
      ],
      "metadata": {
        "colab": {
          "base_uri": "https://localhost:8080/"
        },
        "id": "r69huScsCmjR",
        "outputId": "99e6764e-3a1c-407e-a2b4-7a768c38b14f"
      },
      "execution_count": 106,
      "outputs": [
        {
          "output_type": "execute_result",
          "data": {
            "text/plain": [
              "(array([  1,  78,  83,  99, 114, 119, 156, 168, 175, 177, 178, 180, 181,\n",
              "        183, 202]),)"
            ]
          },
          "metadata": {},
          "execution_count": 106
        }
      ]
    },
    {
      "cell_type": "code",
      "source": [
        "idx = non_zero_indices[0]\n",
        "feature_names_arr = np.array(feature_names)\n",
        "feature_names_arr[idx]"
      ],
      "metadata": {
        "colab": {
          "base_uri": "https://localhost:8080/"
        },
        "id": "hJ-VbP_0GoZX",
        "outputId": "cf5fcfdd-ffab-4a87-d9bc-71d4a1fa246b"
      },
      "execution_count": 107,
      "outputs": [
        {
          "output_type": "execute_result",
          "data": {
            "text/plain": [
              "array(['x2', 'x1*x4^2', 'x1*x4*x9', 'x2^3', 'x2*x4^2', 'x2*x4*x9',\n",
              "       'x3*x6*x9', 'x4^2*x9', 'x4*x6*x7', 'x4*x6*x9', 'x4*x7^2',\n",
              "       'x4*x7*x9', 'x4*x8^2', 'x4*x9^2', 'x6^2*x9'], dtype='<U8')"
            ]
          },
          "metadata": {},
          "execution_count": 107
        }
      ]
    },
    {
      "cell_type": "code",
      "source": [
        "##### random_state=100 gives 18 top 18 features\n",
        "\n",
        "poly_transformer = PolynomialFeatures(degree=3, include_bias=False)\n",
        "\n",
        "lasso = Lasso(alpha=0.02, max_iter=10000) # lpha = 5000\n",
        "kfold = KFold(n_splits=5, shuffle=True, random_state=100)\n",
        "\n",
        "pipeline = Pipeline([ (\"poly_transformer\", poly_transformer), (\"scaler\", scaler), (\"lasso\", lasso)] )\n",
        "cv_scores = cross_validate(pipeline, X, y, scoring='r2', cv=kfold, return_train_score=True, return_estimator=True)\n",
        "\n",
        "nnz = sum(np.abs(cv_scores['estimator'][-1]['lasso'].coef_) > 1e-5)\n",
        "print(nnz)\n",
        "\n",
        "test_score = cv_scores['test_score'].mean().round(4)\n",
        "print(test_score, cv_scores['test_score'].std().round(4))\n",
        "\n",
        "train_score = cv_scores['train_score'].mean().round(4)\n",
        "print(train_score, cv_scores['train_score'].std().round(4))"
      ],
      "metadata": {
        "colab": {
          "base_uri": "https://localhost:8080/"
        },
        "id": "C7nkQtRIGzZ5",
        "outputId": "a61b5566-59e8-40a8-d332-1206ca5b3225"
      },
      "execution_count": 108,
      "outputs": [
        {
          "output_type": "stream",
          "name": "stdout",
          "text": [
            "18\n",
            "0.9726 0.0038\n",
            "0.9751 0.0006\n"
          ]
        }
      ]
    },
    {
      "cell_type": "code",
      "source": [
        "coeff = cv_scores['estimator'][-1]['lasso'].coef_\n",
        "intercept = cv_scores['estimator'][-1]['lasso'].intercept_\n",
        "non_zero_indices = np.nonzero(coeff)\n",
        "non_zero_indices"
      ],
      "metadata": {
        "colab": {
          "base_uri": "https://localhost:8080/"
        },
        "id": "n3fZgjv0EjnT",
        "outputId": "24e05b8d-9789-4495-8978-c0dd2066d93c"
      },
      "execution_count": 109,
      "outputs": [
        {
          "output_type": "execute_result",
          "data": {
            "text/plain": [
              "(array([  1,  78,  83,  99, 114, 119, 134, 156, 168, 175, 177, 178, 180,\n",
              "        181, 183, 198, 201, 202]),)"
            ]
          },
          "metadata": {},
          "execution_count": 109
        }
      ]
    },
    {
      "cell_type": "code",
      "source": [
        "idx = non_zero_indices[0]\n",
        "feature_names_arr = np.array(feature_names)\n",
        "feature_names_arr[idx]"
      ],
      "metadata": {
        "colab": {
          "base_uri": "https://localhost:8080/"
        },
        "id": "b7rXgpIDEjkr",
        "outputId": "008f5e4e-d8cd-4751-e131-c3d70c333557"
      },
      "execution_count": 111,
      "outputs": [
        {
          "output_type": "execute_result",
          "data": {
            "text/plain": [
              "array(['x2', 'x1*x4^2', 'x1*x4*x9', 'x2^3', 'x2*x4^2', 'x2*x4*x9',\n",
              "       'x2*x9^2', 'x3*x6*x9', 'x4^2*x9', 'x4*x6*x7', 'x4*x6*x9',\n",
              "       'x4*x7^2', 'x4*x7*x9', 'x4*x8^2', 'x4*x9^2', 'x5*x9^2', 'x6^2*x8',\n",
              "       'x6^2*x9'], dtype='<U8')"
            ]
          },
          "metadata": {},
          "execution_count": 111
        }
      ]
    },
    {
      "cell_type": "code",
      "source": [
        "poly_transformer = PolynomialFeatures(degree=3, include_bias=False)\n",
        "X_poly = poly_transformer.fit_transform(X)\n",
        "X1 = X_poly[:, idx]"
      ],
      "metadata": {
        "id": "0EV-BtxXEjh4"
      },
      "execution_count": 112,
      "outputs": []
    },
    {
      "cell_type": "code",
      "source": [
        "LR = LinearRegression()\n",
        "pipeline = Pipeline([ (\"LR\", LR)] )\n",
        "cv_scores = cross_validate(pipeline, X1, y, scoring='r2', cv=kfold, return_train_score=True, return_estimator=True)\n",
        "\n",
        "nnz = sum(np.abs(cv_scores['estimator'][-1]['LR'].coef_) > 1e-14)\n",
        "print(nnz)\n",
        "\n",
        "test_score = cv_scores['test_score'].mean()\n",
        "print(test_score, cv_scores['test_score'].std().round(4))\n",
        "\n",
        "train_score = cv_scores['train_score'].mean()\n",
        "print(train_score, cv_scores['train_score'].std().round(4))\n"
      ],
      "metadata": {
        "colab": {
          "base_uri": "https://localhost:8080/"
        },
        "id": "Y4stqWRKEjfI",
        "outputId": "a00f1b8a-0839-4c45-f533-4e684b620c6e"
      },
      "execution_count": 113,
      "outputs": [
        {
          "output_type": "stream",
          "name": "stdout",
          "text": [
            "18\n",
            "0.9779966382561422 0.0038\n",
            "0.9811335204421205 0.0006\n"
          ]
        }
      ]
    },
    {
      "cell_type": "code",
      "source": [
        "cv_scores['estimator'][-1]['LR'].coef_"
      ],
      "metadata": {
        "colab": {
          "base_uri": "https://localhost:8080/"
        },
        "id": "B-vJ2WV8DE63",
        "outputId": "7faef958-48bf-4796-f8b3-aa01132e0f97"
      },
      "execution_count": 116,
      "outputs": [
        {
          "output_type": "execute_result",
          "data": {
            "text/plain": [
              "array([ 3.41194684e-02,  2.61903588e-03,  1.55397281e-03, -4.11245387e-04,\n",
              "        5.78221443e-04,  5.74385123e-04, -1.38952194e-05, -8.62521320e-05,\n",
              "        2.32142425e-04, -1.94803770e-04, -1.32346138e-04,  2.09421910e-05,\n",
              "       -5.27769197e-06,  5.87093155e-05, -6.37679003e-06,  2.87779858e-04,\n",
              "        1.26690854e-04,  4.96685411e-05])"
            ]
          },
          "metadata": {},
          "execution_count": 116
        }
      ]
    },
    {
      "cell_type": "code",
      "source": [
        "poly_coef = list(cv_scores['estimator'][-1]['LR'].coef_) + [cv_scores['estimator'][-1]['LR'].intercept_]\n",
        "poly_coef"
      ],
      "metadata": {
        "colab": {
          "base_uri": "https://localhost:8080/"
        },
        "id": "jY0GZroOHjie",
        "outputId": "1bbcadca-7268-4320-f574-5d51ebae65c5"
      },
      "execution_count": 122,
      "outputs": [
        {
          "output_type": "execute_result",
          "data": {
            "text/plain": [
              "[0.03411946837539749,\n",
              " 0.002619035879623782,\n",
              " 0.0015539728146176197,\n",
              " -0.00041124538687731255,\n",
              " 0.0005782214434204725,\n",
              " 0.0005743851229267528,\n",
              " -1.3895219363230382e-05,\n",
              " -8.625213203651101e-05,\n",
              " 0.00023214242480624664,\n",
              " -0.00019480377001610615,\n",
              " -0.00013234613750125803,\n",
              " 2.0942191026881488e-05,\n",
              " -5.277691969171671e-06,\n",
              " 5.870931549378255e-05,\n",
              " -6.376790031815334e-06,\n",
              " 0.0002877798584047416,\n",
              " 0.00012669085361666145,\n",
              " 4.966854108462101e-05,\n",
              " -12.096213769896607]"
            ]
          },
          "metadata": {},
          "execution_count": 122
        }
      ]
    },
    {
      "cell_type": "code",
      "source": [
        "cv_scores['estimator'][-1]['LR'].intercept_"
      ],
      "metadata": {
        "colab": {
          "base_uri": "https://localhost:8080/"
        },
        "id": "v9oEIbxcExYv",
        "outputId": "bcb9429a-f09f-4b7b-b294-016b6a0fd8ad"
      },
      "execution_count": 115,
      "outputs": [
        {
          "output_type": "execute_result",
          "data": {
            "text/plain": [
              "-12.096213769896607"
            ]
          },
          "metadata": {},
          "execution_count": 115
        }
      ]
    },
    {
      "cell_type": "code",
      "source": [
        "=0.03411947*B3  + 0.00261904*A3*(D3^2) +  0.00155397*(A3*D3*I3)  -0.00041125*(B3^3) +  0.00057822*B3*(D3^2) +  0.00057439*B3*D3*I3\n",
        " - 1.389521936e-05*B3*(I3^2)  - 8.6252132036e-05*C3*F3*I3 +  0.00023214*(D3^2)*I3  -0.0001948*D3*F3*G3\n",
        "  -0.00013235*D3*F3*I3 +  2.0942191e-05*D3*(G3^2)  -5.277691969e-06*D3*G3*I3 +  5.87093155e-05*D3*(H3^2)\n",
        "   -6.37679003e-06*D3*(I3^2) +  0.000287779858*E3*(I3^2) + 0.00012669085361*(F3^2)*H3 +\n",
        "4.96685411e-05*(F3^2)*I3  -12.096213769"
      ],
      "metadata": {
        "id": "kJVCPXtsFEKi"
      },
      "execution_count": 99,
      "outputs": []
    }
  ]
}